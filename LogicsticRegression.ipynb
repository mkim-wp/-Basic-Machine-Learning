{
 "cells": [
  {
   "cell_type": "code",
   "execution_count": 193,
   "metadata": {},
   "outputs": [],
   "source": [
    "import numpy as np\n",
    "from matplotlib import pyplot as plt"
   ]
  },
  {
   "cell_type": "code",
   "execution_count": 194,
   "metadata": {},
   "outputs": [],
   "source": [
    "\n",
    "np.random.seed(2)\n",
    "X = np.array([[0.50, 0.75, 1.00, 1.25, 1.50, 1.75, 1.75, 2.00, 2.25, 2.50, \n",
    "              2.75, 3.00, 3.25, 3.50, 4.00, 4.25, 4.50, 4.75, 5.00, 5.50]])\n",
    "y = np.array([0, 0, 0, 0, 0, 0, 1, 0, 1, 0, 1, 0, 1, 0, 1, 1, 1, 1, 1, 1])\n",
    "\n",
    "X = np.concatenate((np.ones((1, X.shape[1])), X), axis=0)"
   ]
  },
  {
   "cell_type": "markdown",
   "metadata": {},
   "source": [
    "Hàm sigmoid - Vì sao lại lựa chọn hàm sigmoid?\n",
    "$$\n",
    "\\sigma(s) = \\frac{1}{1 + e^{-s}}\n",
    "$$\n",
    "Biến ngẫu nhiên độc lập (hàm gốc):\n",
    "$$\n",
    "P(y | X; w) = \\prod_{i}^{N} P(y_i | x_i; w) = \\prod_{i}^{N} z_i^{y_i} (1 - z_i)^{1-y_i}\n",
    "$$\n",
    "Với:\n",
    "$$\n",
    "z_i = f(s), s = w^T x\n",
    "$$\n",
    "Lấy logarit tự nhiên (log cơ số e), xây dựng Loss Function:\n",
    "$$\n",
    "J(w, x_i, y_i) = - \\sum_{i}^{N}(y_i \\log(z_i) + (1 - y_i) \\log(1 - z_i))\n",
    "$$\n",
    "Đạo hàm theo w của Loss Fuction:\n",
    "$$\n",
    "\\nabla _w J = \\frac{\\partial J}{\\partial w} = \\frac{\\partial J}{\\partial z_i} \\frac{\\partial z_i}{\\partial s} \\frac{\\partial s}{\\partial w}\n",
    "$$\n",
    "Mà ta có\n",
    "$$\n",
    "\\frac{\\partial J}{\\partial z_i} = \\frac{z_i - y_i}{(1 - z_i)(z_i)}\n",
    "$$\n",
    "và\n",
    "$$\n",
    "\\frac{\\partial s}{\\partial w} = x_i\n",
    "$$\n",
    "Vậy ta tạo một hàm $z = f(s)$ sao cho:\n",
    "$$\n",
    "\\frac{\\partial z}{\\partial s} = (1 - z_i)z_i\n",
    "$$\n",
    "Hàm $ f(s) $ ở đây chính hàm hàm sigmoid, bị chặn trong khoảng (0, 1) với đạo hàm:\n",
    "$$\n",
    "\\frac{\\partial \\sigma(s)}{\\partial s} = \\sigma(s) (1 - \\sigma(s))\n",
    "$$\n",
    "Vậy:\n",
    "$$\n",
    "\\nabla _w J = (z_i - y_i) x_i\n",
    "$$"
   ]
  },
  {
   "cell_type": "code",
   "execution_count": 195,
   "metadata": {},
   "outputs": [],
   "source": [
    "def sigmoid(s):\n",
    "    return 1 / (1 + np.exp(-s))\n",
    "\n",
    "def gradient_single(w: np.ndarray, xi: np.ndarray, yi: np.ndarray):\n",
    "    \"\"\"\n",
    "    Đạo hàm từng điểm dữ liệu tại dữ liệu thứ true_i\n",
    "    s = w^T xi, f(s) = sigmoid(w^T xi)\n",
    "    \"\"\"\n",
    "    return xi.dot((sigmoid(w.T.dot(xi)) - yi).T)\n",
    "\n",
    "def check_converge(w, epsilon=1e-4):\n",
    "    \"\"\"\n",
    "    Kiểm tra sự hội tụ của w\n",
    "    \"\"\"\n",
    "    return np.linalg.norm(w) / len(w) < epsilon"
   ]
  },
  {
   "cell_type": "code",
   "execution_count": 196,
   "metadata": {},
   "outputs": [],
   "source": [
    "def logistic_regression_SGD(X, y, w_init, eta):\n",
    "    \"\"\"\n",
    "    Sử dụng thuật toán SGD để hội tụ nhanh hơn\n",
    "    Cách implement tương tự với bài Gradient Descent phần SGD\n",
    "    SGD không ổn định, số vòng lặp có thể lên đến vài ngàn.\n",
    "    \"\"\"\n",
    "    w = [w_init]\n",
    "    w_toCheck = w_init\n",
    "    N = X.shape[1]\n",
    "    features = X.shape[0] # number of features\n",
    "    \n",
    "    epochs = 10000\n",
    "    count = 0\n",
    "    iter_check = 20\n",
    "    \n",
    "    for ep in range(epochs):\n",
    "        permute = np.random.permutation(N)\n",
    "        for i in range(N):\n",
    "            count += 1\n",
    "            true_i = permute[i]\n",
    "            xi = X[:, true_i].reshape(features, 1)\n",
    "            yi = y[true_i].reshape(1, 1)\n",
    "            gradient = gradient_single(w[-1], xi, yi)\n",
    "            w_next = w[-1] - eta * gradient\n",
    "            w.append(w_next)\n",
    "            if count % iter_check == 0:\n",
    "                if check_converge(w_next - w_toCheck):\n",
    "                    return w, ep\n",
    "                w_toCheck = w_next\n",
    "    return w, ep"
   ]
  },
  {
   "cell_type": "markdown",
   "metadata": {},
   "source": [
    "$$\n",
    "\\nabla _w J = (z_i - y_i) x_i\n",
    "$$\n",
    "Nhắc lại về NAG:\n",
    "$$\n",
    "v_t = \\gamma v_{t-1} + \\eta \\nabla_\\theta J (\\theta - \\gamma v_{t-1})\n",
    "$$\n",
    "\n",
    "$$\n",
    "\\theta = \\theta - v_t\n",
    "$$"
   ]
  },
  {
   "cell_type": "code",
   "execution_count": 197,
   "metadata": {},
   "outputs": [],
   "source": [
    "def logistic_regression_nag(X, y, w_init, eta, gamma=.9):\n",
    "    \"\"\"\n",
    "    Sử dụng thuật toán nhìn trước một bước NAG để thuật toán ổn định hơn\n",
    "    Cách implement giống với phần Gradient Descent phần NAG\n",
    "    \"\"\"\n",
    "    w = [w_init]\n",
    "    v = np.zeros_like(w_init)\n",
    "    epochs = 10000\n",
    "    \n",
    "    for ep in range(epochs):\n",
    "        gradient = X.dot((sigmoid((w[-1] - gamma * v).T.dot(X)) - y).T)\n",
    "        v_next = gamma * v + eta * gradient\n",
    "        w_next = w[-1] - v_next\n",
    "        if check_converge(w_next - w[-1]):\n",
    "            return w, ep\n",
    "        w.append(w_next)\n",
    "        v = v_next\n",
    "        \n",
    "    return w, ep"
   ]
  },
  {
   "cell_type": "code",
   "execution_count": 198,
   "metadata": {},
   "outputs": [
    {
     "name": "stdout",
     "output_type": "stream",
     "text": [
      "GD nag: w =  [[-4.09698407  1.51117001]] \n",
      "85 iterations\n",
      "GD SGD: w =  [[-4.11386387  1.50545995]] \n",
      "3036 iterations\n"
     ]
    }
   ],
   "source": [
    "features = X.shape[0]\n",
    "w_init = np.random.randn(features, 1)\n",
    "w1, ep1 = logistic_regression_nag(X, y, w_init, .01)\n",
    "print('GD nag: w = ', w1[-1].T, '\\n%d iterations' %(ep1+1))\n",
    "w2, ep2 = logistic_regression_SGD(X, y, w_init, .05)\n",
    "print('GD SGD: w = ', w2[-1].T, '\\n%d iterations' %(ep2+1))"
   ]
  },
  {
   "cell_type": "code",
   "execution_count": 199,
   "metadata": {},
   "outputs": [
    {
     "data": {
      "text/plain": [
       "[<matplotlib.lines.Line2D at 0x24847982b80>]"
      ]
     },
     "execution_count": 199,
     "metadata": {},
     "output_type": "execute_result"
    },
    {
     "data": {
      "image/png": "[encoded data removed]",
      "text/plain": [
       "<Figure size 640x480 with 1 Axes>"
      ]
     },
     "metadata": {},
     "output_type": "display_data"
    }
   ],
   "source": [
    "X0 = X[1, np.where(y == 0)][0]\n",
    "y0 = y[y == 0]\n",
    "X1 = X[1, np.where(y == 1)][0]\n",
    "y1 = y[y == 1]\n",
    "\n",
    "plt.plot(X0, y0, 'bs', markersize=4, alpha=0.8)\n",
    "plt.plot(X1, y1, 'ro', markersize=4, alpha=0.8)\n",
    "\n",
    "a1, b1 = w1[-1][0, 0], w1[-1][1, 0]\n",
    "a2, b2 = w2[-1][0, 0], w2[-1][1, 0]\n",
    "\n",
    "xs = np.linspace(0, 6, 1000)\n",
    "f1 = sigmoid(a1 + b1 * xs)\n",
    "f2 = sigmoid(a2 + b2 * xs)\n",
    "plt.plot(xs, f1, 'g-', linewidth=4)\n",
    "plt.plot(xs, f2, 'y-', linewidth=2)\n"
   ]
  }
 ],
 "metadata": {
  "kernelspec": {
   "display_name": "env",
   "language": "python",
   "name": "python3"
  },
  "language_info": {
   "codemirror_mode": {
    "name": "ipython",
    "version": 3
   },
   "file_extension": ".py",
   "mimetype": "text/x-python",
   "name": "python",
   "nbconvert_exporter": "python",
   "pygments_lexer": "ipython3",
   "version": "3.8.0"
  }
 },
 "nbformat": 4,
 "nbformat_minor": 2
}
