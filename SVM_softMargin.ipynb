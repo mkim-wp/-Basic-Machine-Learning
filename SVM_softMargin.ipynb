{
  "cells": [
    {
      "cell_type": "code",
      "execution_count": 524,
      "metadata": {
        "id": "B7b-OfbyadwZ"
      },
      "outputs": [],
      "source": [
        "# Import các thư viện cần thiết\n",
        "from __future__ import print_function\n",
        "import numpy as np\n",
        "import matplotlib.pyplot as plt\n",
        "from scipy.spatial.distance import cdist\n",
        "from cvxopt import matrix, solvers"
      ]
    },
    {
      "cell_type": "code",
      "execution_count": 525,
      "metadata": {
        "id": "UZRArMkpasDH"
      },
      "outputs": [],
      "source": [
        "# Cố định seed cho random\n",
        "np.random.seed(21)"
      ]
    },
    {
      "cell_type": "code",
      "execution_count": 526,
      "metadata": {
        "id": "fctzvjnsatiC"
      },
      "outputs": [],
      "source": [
        "# means: một list chứa 2 giá trị mean vector trong không gian 2 chiếu:\n",
        "# [2, 2] cho class 1\n",
        "# [4, 1] cho class -1\n",
        "means = [[2, 2], [4, 1]]"
      ]
    },
    {
      "cell_type": "code",
      "execution_count": 527,
      "metadata": {
        "id": "vTiT00hKa-c1"
      },
      "outputs": [],
      "source": [
        "# Tạo giá trị hiệp phương sai cho cả 2 class 1 và -1.\n",
        "# 2 class đều định nghĩa phương sai và sự tương quan giữa 2 chiều là cov\n",
        "cov = [[.9, 0], [0, .7]]"
      ]
    },
    {
      "cell_type": "code",
      "execution_count": 528,
      "metadata": {
        "id": "zUYk-Bo6bABM"
      },
      "outputs": [],
      "source": [
        "# số điểm dữ liệu cho từng class - tổng là 2N điểm dữ liệu\n",
        "N = 20"
      ]
    },
    {
      "cell_type": "code",
      "execution_count": 529,
      "metadata": {
        "id": "of_RuWNYbGbZ"
      },
      "outputs": [],
      "source": [
        "# Tạo các điểm dữ liệu bằng phân phối chuẩn (normal distribution)\n",
        "# Không gian 2 chiều - 2 đặc trưng\n",
        "\n",
        "# class 1: mean=[2, 2]\n",
        "X0 = np.random.multivariate_normal(means[0], cov, N) #X0.shape = (N, 2)\n",
        "\n",
        "# class -1: mean=[4, 1]\n",
        "X1 = np.random.multivariate_normal(means[1], cov, N) #X1.shape = (N, 2)"
      ]
    },
    {
      "cell_type": "code",
      "execution_count": 530,
      "metadata": {
        "colab": {
          "base_uri": "https://localhost:8080/",
          "height": 440
        },
        "id": "XKq_AfbkgQHj",
        "outputId": "099f4a68-459d-4669-c8de-dcdf4266cb20"
      },
      "outputs": [
        {
          "data": {
            "image/png": "[encoded data removed]",
            "text/plain": [
              "<Figure size 640x480 with 1 Axes>"
            ]
          },
          "metadata": {},
          "output_type": "display_data"
        }
      ],
      "source": [
        "plt.plot(X0[:, 0], X0[:, 1], 'bs', markersize = 4, alpha = 1)\n",
        "plt.plot(X1[:, 0], X1[:, 1], 'ro', markersize = 4, alpha = 1)\n",
        "\n",
        "# hide tickss\n",
        "cur_axes = plt.gca()\n",
        "cur_axes.axes.get_xaxis().set_ticks([])\n",
        "cur_axes.axes.get_yaxis().set_ticks([])\n",
        "\n",
        "plt.xlabel('$x$', fontsize = 10)\n",
        "plt.ylabel('$y$', fontsize = 10)\n",
        "plt.show()"
      ]
    },
    {
      "cell_type": "code",
      "execution_count": 531,
      "metadata": {
        "colab": {
          "base_uri": "https://localhost:8080/"
        },
        "id": "r7lg4X81bHpo",
        "outputId": "742ca61f-6460-4986-b135-2eb0c8cec888"
      },
      "outputs": [
        {
          "name": "stdout",
          "output_type": "stream",
          "text": [
            "(40, 2)\n"
          ]
        }
      ],
      "source": [
        "# combine các điểm dữ liệu theo chiều dọc\n",
        "X = np.concatenate((X0, X1), axis=0) #X.shape = (2N, 2)\n",
        "print(X.shape)"
      ]
    },
    {
      "cell_type": "code",
      "execution_count": 532,
      "metadata": {
        "colab": {
          "base_uri": "https://localhost:8080/"
        },
        "id": "ckoPm2ZtbVj6",
        "outputId": "1743481d-0302-4528-f9c9-c57b4bf43253"
      },
      "outputs": [
        {
          "name": "stdout",
          "output_type": "stream",
          "text": [
            "(40,)\n"
          ]
        }
      ],
      "source": [
        "# Tạo labels\n",
        "y = np.concatenate((np.ones(N,), -1 * np.ones(N,)), axis=0)\n",
        "print(y.shape)"
      ]
    },
    {
      "cell_type": "markdown",
      "metadata": {},
      "source": [
        "Với V:\n",
        "$$\n",
        "V = [y_1 x_1, y_2 x_2, ..., y_N x_N]\n",
        "$$\n",
        "Hàm đối ngẫu Lagrange:\n",
        "$$\n",
        "g(\\lambda) = -\\frac{1}{2} \\lambda^T V^T V \\lambda + 1^T \\lambda\n",
        "$$\n",
        "Đặt:\n",
        "$$\n",
        "K = V^T V\n",
        "$$\n",
        "K là ma trận xác định dương. <br>\n",
        "Nhờ đó ta có được hàm concave:\n",
        "$$\n",
        "g(\\lambda) = - \\frac{1}{2} \\lambda^T K \\lambda + 1^T \\lambda\n",
        "$$"
      ]
    },
    {
      "cell_type": "code",
      "execution_count": 533,
      "metadata": {
        "id": "oBjKmxfNd1LV"
      },
      "outputs": [],
      "source": [
        "# Tạo matrix V\n",
        "V = np.concatenate((X0.T, -X1.T), axis=1)"
      ]
    },
    {
      "cell_type": "code",
      "execution_count": 534,
      "metadata": {
        "id": "eu2adQxUd1so"
      },
      "outputs": [],
      "source": [
        "# Tạo matrix K\n",
        "K = matrix(V.T.dot(V))"
      ]
    },
    {
      "cell_type": "markdown",
      "metadata": {
        "id": "tfjC2Dxibe26"
      },
      "source": [
        " $$\n",
        " \\lambda^* = \\underset{\\lambda}{\\operatorname{argmax}} g(\\lambda)\n",
        " $$\n",
        " Dạng Quadratic Programming:\n",
        " $$\n",
        " \\lambda^* = \\underset{\\lambda}{\\operatorname{argmin}} (-g(\\lambda))\n",
        " = \\underset{\\lambda}{\\operatorname{argmin}}(\\frac{1}{2} \\lambda^T K \\lambda - 1^T \\lambda)\n",
        " $$\n",
        " Subject to:\n",
        " $$\n",
        " \\sum_{i=1}^{N} \\lambda_i y_i = 0\n",
        " $$\n",
        "  $$\n",
        "  0 \\leq \\lambda_i \\leq C\n",
        " $$\n",
        "$$\n",
        " ∀ i \\in {1, 2,.., N}\n",
        "$$\n",
        "Đây chính là các ràng buộc cho dạng Quadratic Programming:\n",
        "$$\n",
        "Ax = b\n",
        "$$\n",
        "$$\n",
        "Gx \\preceq h\n",
        "$$"
      ]
    },
    {
      "cell_type": "code",
      "execution_count": 535,
      "metadata": {
        "id": "-4xNuRgEbd9x"
      },
      "outputs": [],
      "source": [
        "\"\"\"\n",
        "q = -1^T\n",
        "P = K\n",
        "Gx <= h\n",
        "(1/2) x^T P x + p x\n",
        "sol = solvers.qp(P, p, G, h, A, b)\n",
        "\"\"\"\n",
        "\n",
        "#Chọn C\n",
        "C = 10\n",
        "\n",
        "\"\"\"\n",
        "Lập ràng buộc cho \\lambda\n",
        "có tổng cộng 2 * N điểm dữ liệu cho X\n",
        "Vì 0 <= \\lambda_i <= C nên G kích thước là (4 * N, 2 * N)\n",
        "Nếu chỉ có điều kiện 0 <= lambda_i thì G kích thước là (2 * N, 2 * N)\n",
        "<Buộc h có số cột là 1, số hàng tương ứng với số điểm dữ liệu * số ràng buộc>\n",
        "\"\"\"\n",
        "G = matrix(np.concatenate((-np.eye(2 * N), np.eye(2 * N)), axis=0))\n",
        "h = matrix(np.concatenate((np.zeros((2 * N, 1)), C * np.ones((2 * N, 1))), axis=0))\n",
        "\n",
        "\"\"\"\n",
        "# lập ràng buộc cho \\lambda_i y_i (tìm được nhờ đạo hàm w, b)\n",
        "# A bắt buộc là ma trận có (2 * N) cột tương ứng với số điểm dữ liệu, và b có 1 cột duy nhất\n",
        "\"\"\"\n",
        "A = matrix(y.reshape((-1, 2 * N)))\n",
        "b = matrix(np.zeros((1, 1))) \n",
        "\n",
        "# p = (-1)^T\n",
        "p = matrix(-np.ones((2 * N, 1)))\n",
        "\n",
        "solvers.options['show_progress'] = False\n",
        "sol = solvers.qp(K, p, G, h, A, b)"
      ]
    },
    {
      "cell_type": "code",
      "execution_count": 536,
      "metadata": {
        "colab": {
          "base_uri": "https://localhost:8080/"
        },
        "id": "WathweWicQBz",
        "outputId": "f6adabe8-6a93-496b-ca28-26ffcc245183"
      },
      "outputs": [
        {
          "name": "stdout",
          "output_type": "stream",
          "text": [
            "lambda = \n",
            "[[4.25121345e-09 9.99999997e+00 7.09074718e+00 3.71691316e-09\n",
            "  7.61727769e+00 2.24228664e-09 9.99999999e+00 1.72080397e-08\n",
            "  4.93797165e-09 1.95273976e-09 2.29846698e-09 4.49524098e-09\n",
            "  1.79460229e-09 7.95589558e-09 2.58644414e-09 9.99999997e+00\n",
            "  2.15022476e-09 4.93900829e-09 3.39390491e-09 5.55540999e-09\n",
            "  5.34354149e-09 9.99999998e+00 2.75286245e-09 7.64322793e-09\n",
            "  3.18104190e-09 1.36005598e-08 4.39620594e-09 9.99999999e+00\n",
            "  1.70627168e-08 9.99999976e+00 5.40275102e-09 1.16522881e-08\n",
            "  4.70802504e+00 1.37585290e-08 2.75665332e-09 1.26790102e-08\n",
            "  9.99999998e+00 1.12270687e-08 2.29647339e-09 3.47105385e-09]]\n"
          ]
        }
      ],
      "source": [
        "# quan sát lambda\n",
        "l = np.array(sol['x'])\n",
        "print('lambda = ')\n",
        "print(l.T)"
      ]
    },
    {
      "cell_type": "markdown",
      "metadata": {},
      "source": [
        "$$\n",
        "S =  \\left \\{ 0 < \\lambda_i \\leq C \\right \\}\n",
        "$$\n",
        "\n",
        "$$\n",
        "w = \\sum_{i \\in S}^{} \\lambda_i y_i x_i = V_{i \\in S} \\lambda_{i \\in S}\n",
        "$$\n"
      ]
    },
    {
      "cell_type": "code",
      "execution_count": 537,
      "metadata": {
        "colab": {
          "base_uri": "https://localhost:8080/"
        },
        "id": "KQP9ufzOc6SB",
        "outputId": "aa02eed2-d331-488d-a943-b1a306fd0905"
      },
      "outputs": [],
      "source": [
        "\n",
        "\"\"\" Chọn epsilon, vì đa số các \\lambda_i = 0\"\"\"\n",
        "epsilon = 1e-6\n",
        "\"\"\"\n",
        "support vectors\n",
        "Với bài toán Hard Margin: \n",
        "-> lambda > 0 biểu thị điểm dữ liệu đó là support vector\n",
        "VS = Matrix của V, V[xi * yi ...] với i thuộc 1,..., n; lấy trong matrix V thỏa các điều kiện này\n",
        "lS = Matrix của lambda, tương tự\n",
        "\"\"\"\n",
        "S = np.where(l > 1e-5)[0]\n",
        "VS = V[:, S]\n",
        "lS = l[S]\n",
        "w = VS.dot(lS).reshape(-1, 1)"
      ]
    },
    {
      "cell_type": "markdown",
      "metadata": {},
      "source": [
        "$$\n",
        "M =  \\left \\{ 0 < \\lambda_i < C \\right \\}\n",
        "$$\n",
        "\n",
        "$$\n",
        "b = \\frac{1}{N_M} \\sum_{i \\in M}^{} (y_i - w^T x_i) \n",
        "$$"
      ]
    },
    {
      "cell_type": "code",
      "execution_count": 541,
      "metadata": {},
      "outputs": [],
      "source": [
        "\"\"\"\n",
        "M: index thỏa các \\lambda > 0 và nhỏ hơn C: \n",
        "Đây là các lambda thỏa ràng buộc của tối ưu lồi\n",
        "XT = Chuyển vị của X, shape=(2, 2N) hay (features, số điểm dữ liệu)\n",
        "\"\"\"\n",
        "M = np.where((l > epsilon) & (l < .999 * C))[0]\n",
        "XT = X.T \n",
        "\n",
        "\"\"\"\n",
        "Tính w dựa trên biểu thức đạo hàm theo w dạng Lagragian của bài toán\n",
        "\"\"\"\n",
        "yM = y[M]\n",
        "XM = XT[:, M]\n",
        "\n",
        "# Tính b bằng cách lấy trung bình các cách tính b\n",
        "b = np.mean(yM.T - w.T.dot(XM))"
      ]
    },
    {
      "cell_type": "code",
      "execution_count": 542,
      "metadata": {},
      "outputs": [
        {
          "name": "stdout",
          "output_type": "stream",
          "text": [
            "w =  [[-3.31922892  0.84817374]]\n",
            "b =  9.503479577573517\n"
          ]
        }
      ],
      "source": [
        "print('w = ', w.T)\n",
        "print('b = ', b)"
      ]
    },
    {
      "cell_type": "code",
      "execution_count": 543,
      "metadata": {
        "colab": {
          "base_uri": "https://localhost:8080/",
          "height": 440
        },
        "id": "B78mZC7GlbVC",
        "outputId": "ecca7f97-c17d-40e1-f5bd-5a3a93d450e6"
      },
      "outputs": [
        {
          "data": {
            "image/png": "[encoded data removed]",
            "text/plain": [
              "<Figure size 640x480 with 1 Axes>"
            ]
          },
          "metadata": {},
          "output_type": "display_data"
        }
      ],
      "source": [
        "fig, ax = plt.subplots()\n",
        "\n",
        "x1 = np.arange(-10, 10, 0.1)\n",
        "\n",
        "y_center = -w[0, 0]/w[1, 0] * x1 - b / w[1, 0]\n",
        "y2 = -w[0, 0]/w[1, 0] * x1 - (b - 1) / w[1, 0]\n",
        "y3 = -w[0, 0]/w[1, 0] * x1 - (b + 1) / w[1, 0]\n",
        "\n",
        "plt.plot(x1, y_center, 'k', linewidth=2)\n",
        "plt.plot(x1, y2, 'k')\n",
        "plt.plot(x1, y3, 'k')\n",
        "\n",
        "y4 = 10 * x1\n",
        "plt.plot(x1, y_center, 'k')\n",
        "plt.fill_between(x1, y_center, color='red', alpha=0.1)\n",
        "plt.fill_between(x1, y_center, y4, color='blue', alpha=0.1)\n",
        "\n",
        "plt.plot(X0[:, 0], X0[:, 1], 'bs', markersize=4, alpha=0.8)\n",
        "plt.plot(X1[:, 0], X1[:, 1], 'ro', markersize=4, alpha=0.8)\n",
        "\n",
        "plt.axis('equal')\n",
        "plt.ylim(0, 3)\n",
        "plt.xlim(2, 4)\n",
        "\n",
        "# Hide ticks\n",
        "cur_axes = plt.gca()\n",
        "cur_axes.axes.get_xaxis().set_ticks([])\n",
        "cur_axes.axes.get_yaxis().set_ticks([])\n",
        "\n",
        "plt.xlabel('$x_1$', fontsize=10)\n",
        "plt.ylabel('$x_2$', fontsize=10)\n",
        "\n",
        "plt.show()"
      ]
    }
  ],
  "metadata": {
    "colab": {
      "provenance": []
    },
    "kernelspec": {
      "display_name": "Python 3",
      "name": "python3"
    },
    "language_info": {
      "codemirror_mode": {
        "name": "ipython",
        "version": 3
      },
      "file_extension": ".py",
      "mimetype": "text/x-python",
      "name": "python",
      "nbconvert_exporter": "python",
      "pygments_lexer": "ipython3",
      "version": "3.8.0"
    }
  },
  "nbformat": 4,
  "nbformat_minor": 0
}
